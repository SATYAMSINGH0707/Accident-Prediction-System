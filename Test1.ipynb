{
  "nbformat": 4,
  "nbformat_minor": 0,
  "metadata": {
    "colab": {
      "provenance": [],
      "authorship_tag": "ABX9TyPQSjFjIVD37A6FiYWlMjJc",
      "include_colab_link": true
    },
    "kernelspec": {
      "name": "python3",
      "display_name": "Python 3"
    },
    "language_info": {
      "name": "python"
    }
  },
  "cells": [
    {
      "cell_type": "markdown",
      "metadata": {
        "id": "view-in-github",
        "colab_type": "text"
      },
      "source": [
        "<a href=\"https://colab.research.google.com/github/SATYAMSINGH0707/Accident-Prediction-System/blob/main/Test1.ipynb\" target=\"_parent\"><img src=\"https://colab.research.google.com/assets/colab-badge.svg\" alt=\"Open In Colab\"/></a>"
      ]
    },
    {
      "cell_type": "code",
      "execution_count": null,
      "metadata": {
        "id": "5T1wR9ydHsrN"
      },
      "outputs": [],
      "source": [
        "# Jupyter Notebook for Python Basics Practice\n",
        "\n",
        "## Multiple-Choice Questions (MCQs)\n",
        "\n",
        "### Question 1\n",
        "# What is the output of the following code?\n",
        "# print(type(5.0))\n",
        "# a) int\n",
        "# b) float\n",
        "# c) str\n",
        "# d) list\n",
        "# Answer- (b)float\n",
        "\n",
        "### Question 2\n",
        "# What is the correct syntax to output \"Hello World\" in Python?\n",
        "# a) echo \"Hello World\"\n",
        "# b) print(\"Hello World\")\n",
        "# c) printf(\"Hello World\")\n",
        "# d) System.out.println(\"Hello World\")\n",
        "#Ans-b)print(\"Hello World\")\n",
        "\n",
        "### Question 3\n",
        "# Which of the following is a correct variable declaration in Python?\n",
        "# a) var x = 10\n",
        "# b) int x = 10\n",
        "# c) x = 10\n",
        "# d) declare x = 10\n",
        "#ANs-c) x = 10\n",
        "\n",
        "### Question 4\n",
        "# What is the output of the following code?\n",
        "# print(2 ** 3)\n",
        "# a) 6\n",
        "# b) 8\n",
        "# c) 9\n",
        "# d) 12\n",
        "#ANW- b) 8\n",
        "### Question 5\n",
        "# Which of the following is used to define a block of code in Python?\n",
        "# a) Curly braces\n",
        "# b) Parentheses\n",
        "# c) Indentation\n",
        "# d) Quotation marks\n",
        "#Ans- c) Indentation\n",
        "\n",
        "### Question 6\n",
        "# How do you start a comment in Python?\n",
        "# a) //\n",
        "# b) /*\n",
        "# c) <!--\n",
        "# d) #\n",
        "#Ans-d) #\n",
        "\n",
        "### Question 7\n",
        "# What is the output of the following code?\n",
        "# print(\"Hello\" + \" \" + \"World\")\n",
        "# a) Hello World\n",
        "# b) HelloWorld\n",
        "# c) Hello+World\n",
        "# d) Error\n",
        "\n",
        "# Answer-a) Hello World\n",
        "\n",
        "### Question 8\n",
        "# Which of the following is the correct way to create a list in Python?\n",
        "# a) list = [1, 2, 3]\n",
        "# b) list = (1, 2, 3)\n",
        "# c) list = {1, 2, 3}\n",
        "# d) list = 1, 2, 3\n",
        "#Answer-a) list = [1, 2, 3]\n",
        "### Question 9\n",
        "# What is the output of the following code?\n",
        "# a = [1, 2, 3]\n",
        "# print(len(a))\n",
        "# a) 2\n",
        "# b) 3\n",
        "# c) 4\n",
        "# d) Error\n",
        "#Answer:C)3\n",
        "### Question 10\n",
        "# Which of the following statements is true?\n",
        "# a) A tuple is mutable\n",
        "# b) A list is immutable\n",
        "# c) A tuple is immutable\n",
        "# d) A list is immutable and a tuple is mutable\n",
        "#Answer:C)A tuple is immutable\n",
        "### Question 11\n",
        "# What will be the output of the following code?\n",
        "# x = 10\n",
        "# if x > 5:\n",
        "#     print(\"Greater\")\n",
        "# else:\n",
        "#     print(\"Smaller\")\n",
        "# a) Greater\n",
        "# b) Smaller\n",
        "# c) Error\n",
        "# d) None of the above\n",
        "#Answ- a) Greater\n",
        "### Question 12\n",
        "# How do you create a dictionary in Python?\n",
        "# a) dict = [1, 2, 3]\n",
        "# b) dict = {1, 2, 3}\n",
        "# c) dict = {\"one\": 1, \"two\": 2, \"three\": 3}\n",
        "# d) dict = (1, 2, 3)\n",
        "#Answer- C\n",
        "### Question 13\n",
        "# What is the output of the following code?\n",
        "# x = [1, 2, 3, 4]\n",
        "# print(x[1:3])\n",
        "# a) [1, 2]\n",
        "# b) [2, 3]\n",
        "# c) [3, 4]\n",
        "# d) [2, 3, 4]\n",
        "#ANW-d) [2, 3, 4]\n",
        "### Question 14\n",
        "# Which of the following methods can be used to add an element to a list?\n",
        "# a) append()\n",
        "# b) add()\n",
        "# c) insert()\n",
        "# d) extend()\n",
        "#ANWER-a) append()\n",
        "### Question 15\n",
        "# What is the correct way to handle exceptions in Python?\n",
        "# a) try-except\n",
        "# b) try-catch\n",
        "# c) do-except\n",
        "# d) do-catch\n",
        "#ANW-a) try-except\n",
        "---\n",
        "\n",
        "## Practice Questions\n",
        "\n",
        "### Question 1\n",
        "# Write a Python program to check if a number is even or odd.\n",
        "\n",
        "number = int(input(\"Enter a number: \"))\n",
        "if number % 2 == 0:\n",
        "    print(f\"{number} is even.\")\n",
        "else:\n",
        "    print(f\"{number} is odd.\")\n",
        "\n",
        "### Question 2\n",
        "# Write a Python program to find the factorial of a given number using a loop.\n",
        "\n",
        "def factorial(n):\n",
        "    result = 1\n",
        "    for i in range(1, n + 1):\n",
        "        result *= i\n",
        "    return result\n",
        "\n",
        "number = int(input(\"Enter a number: \"))\n",
        "print(f\"Factorial of {number} is {factorial(number)}.\")\n",
        "\n",
        "### Question 3\n",
        "# Write a Python program to create a list of the first 10 natural numbers and then print each number.\n",
        "\n",
        "natural_numbers = list(range(1, 11))\n",
        "for number in natural_numbers:\n",
        "    print(number)\n",
        "\n",
        "### Question 4\n",
        "# Write a Python program to calculate the sum of all numbers in a list.\n",
        "\n",
        "numbers = [1, 2, 3, 4, 5]\n",
        "print(f\"Sum of the list is {sum(numbers)}.\")\n",
        "\n",
        "### Question 5\n",
        "# Write a Python program to reverse a string.\n",
        "\n",
        "string = input(\"Enter a string: \")\n",
        "reversed_string = string[::-1]\n",
        "print(f\"Reversed string is: {reversed_string}\")\n",
        "\n",
        "### Question 6\n",
        "# Write a Python program to find the largest number in a list.\n",
        "\n",
        "numbers = [1, 2, 3, 4, 5]\n",
        "print(f\"Largest number in the list is {max(numbers)}.\")\n",
        "\n",
        "### Question 7\n",
        "# Write a Python program to print the multiplication table of any number provided by the user.\n",
        "\n",
        "number = int(input(\"Enter a number: \"))\n",
        "for i in range(1, 11):\n",
        "    print(f\"{number} x {i} = {number * i}\")\n",
        "\n",
        "### Question 8\n",
        "# Write a Python program to count the number of vowels in a string.\n",
        "\n",
        "vowels = \"aeiouAEIOU\"\n",
        "string = input(\"Enter a string: \")\n",
        "count = sum(1 for char in string if char in vowels)\n",
        "print(f\"Number of vowels in the string is: {count}\")\n",
        "\n",
        "### Question 9\n",
        "# Write a Python program to convert a list of tuples into a dictionary.\n",
        "\n",
        "tuples = [(\"one\", 1), (\"two\", 2), (\"three\", 3)]\n",
        "dictionary = dict(tuples)\n",
        "print(f\"Converted dictionary: {dictionary}\")\n",
        "\n",
        "### Question 10\n",
        "# Write a Python program to check if a given string is a palindrome.\n",
        "\n",
        "string = input(\"Enter a string: \")\n",
        "is_palindrome = string == string[::-1]\n",
        "print(f\"The string is a palindrome: {is_palindrome}\")\n"
      ]
    },
    {
      "cell_type": "code",
      "source": [
        "number=int(input(\"enter the number\"))\n",
        "if number%2==0:\n",
        "   print(\"even\")\n",
        "else:\n",
        "  print(\"odd\")\n",
        "#question number 1)"
      ],
      "metadata": {
        "colab": {
          "base_uri": "https://localhost:8080/"
        },
        "id": "-SqyFGqcH9xX",
        "outputId": "8a3bd814-5859-40bc-d4bc-da389b53242a"
      },
      "execution_count": 10,
      "outputs": [
        {
          "output_type": "stream",
          "name": "stdout",
          "text": [
            "enter the number7\n",
            "odd\n"
          ]
        }
      ]
    },
    {
      "cell_type": "code",
      "source": [
        "natural_numbers=list(range(1,11))\n",
        "for number in natural_numbers:\n",
        "  print(number)\n",
        "#uestion -3"
      ],
      "metadata": {
        "colab": {
          "base_uri": "https://localhost:8080/"
        },
        "id": "9ZFedBAUPHnS",
        "outputId": "7a9059f0-02fd-4c1c-f7de-d4cc950c5235"
      },
      "execution_count": 11,
      "outputs": [
        {
          "output_type": "stream",
          "name": "stdout",
          "text": [
            "1\n",
            "2\n",
            "3\n",
            "4\n",
            "5\n",
            "6\n",
            "7\n",
            "8\n",
            "9\n",
            "10\n"
          ]
        }
      ]
    },
    {
      "cell_type": "code",
      "source": [
        "number=[1,2,3,4,5]\n",
        "print(f\"{sum(number)}\")"
      ],
      "metadata": {
        "colab": {
          "base_uri": "https://localhost:8080/"
        },
        "id": "6mB4xSYpQCPd",
        "outputId": "268386f5-a698-4289-bbbd-ebe3c7a95294"
      },
      "execution_count": 15,
      "outputs": [
        {
          "output_type": "stream",
          "name": "stdout",
          "text": [
            "15\n"
          ]
        }
      ]
    },
    {
      "cell_type": "code",
      "source": [
        "number=[1,2,3,4,5]\n",
        "print(f\"{max(number)}\")"
      ],
      "metadata": {
        "colab": {
          "base_uri": "https://localhost:8080/"
        },
        "id": "pCnDN4LTQ1kq",
        "outputId": "6b20e00b-458d-4808-e18a-7f665015bef0"
      },
      "execution_count": 16,
      "outputs": [
        {
          "output_type": "stream",
          "name": "stdout",
          "text": [
            "5\n"
          ]
        }
      ]
    },
    {
      "cell_type": "code",
      "source": [
        "string=input(\"enter the string:\")\n",
        "revers_string=string[::-1]\n",
        "print(f\"{revers_string}\")"
      ],
      "metadata": {
        "colab": {
          "base_uri": "https://localhost:8080/"
        },
        "id": "B2tBOugURglJ",
        "outputId": "76fd6328-9f3f-4f6f-bded-ae783fb4adef"
      },
      "execution_count": 19,
      "outputs": [
        {
          "output_type": "stream",
          "name": "stdout",
          "text": [
            "enter the string:satyam\n",
            "maytas\n"
          ]
        }
      ]
    }
  ]
}